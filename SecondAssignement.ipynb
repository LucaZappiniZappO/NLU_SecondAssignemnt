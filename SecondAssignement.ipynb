{
  "nbformat": 4,
  "nbformat_minor": 0,
  "metadata": {
    "colab": {
      "name": "SecondAssignement.ipynb",
      "provenance": [],
      "collapsed_sections": []
    },
    "kernelspec": {
      "name": "python3",
      "display_name": "Python 3"
    },
    "language_info": {
      "name": "python"
    }
  },
  "cells": [
    {
      "cell_type": "code",
      "metadata": {
        "id": "Gr7NIupbuwLF",
        "colab": {
          "base_uri": "https://localhost:8080/",
          "height": 389
        },
        "outputId": "0348bf6d-a44b-458f-ed06-47abdd05597f"
      },
      "source": [
        "import conll\n",
        "import spacy\n",
        "import nltk\n",
        "import pandas as pd\n",
        "from spacy.tokens import Doc\n",
        "import os\n",
        "from sklearn.metrics import classification_report"
      ],
      "execution_count": 1,
      "outputs": [
        {
          "output_type": "error",
          "ename": "ModuleNotFoundError",
          "evalue": "ignored",
          "traceback": [
            "\u001b[0;31m---------------------------------------------------------------------------\u001b[0m",
            "\u001b[0;31mModuleNotFoundError\u001b[0m                       Traceback (most recent call last)",
            "\u001b[0;32m<ipython-input-1-ad36a056a432>\u001b[0m in \u001b[0;36m<module>\u001b[0;34m()\u001b[0m\n\u001b[0;32m----> 1\u001b[0;31m \u001b[0;32mimport\u001b[0m \u001b[0mconll\u001b[0m\u001b[0;34m\u001b[0m\u001b[0;34m\u001b[0m\u001b[0m\n\u001b[0m\u001b[1;32m      2\u001b[0m \u001b[0;32mimport\u001b[0m \u001b[0mspacy\u001b[0m\u001b[0;34m\u001b[0m\u001b[0;34m\u001b[0m\u001b[0m\n\u001b[1;32m      3\u001b[0m \u001b[0;32mimport\u001b[0m \u001b[0mnltk\u001b[0m\u001b[0;34m\u001b[0m\u001b[0;34m\u001b[0m\u001b[0m\n\u001b[1;32m      4\u001b[0m \u001b[0;32mimport\u001b[0m \u001b[0mpandas\u001b[0m \u001b[0;32mas\u001b[0m \u001b[0mpd\u001b[0m\u001b[0;34m\u001b[0m\u001b[0;34m\u001b[0m\u001b[0m\n\u001b[1;32m      5\u001b[0m \u001b[0;32mfrom\u001b[0m \u001b[0mspacy\u001b[0m\u001b[0;34m.\u001b[0m\u001b[0mtokens\u001b[0m \u001b[0;32mimport\u001b[0m \u001b[0mDoc\u001b[0m\u001b[0;34m\u001b[0m\u001b[0;34m\u001b[0m\u001b[0m\n",
            "\u001b[0;31mModuleNotFoundError\u001b[0m: No module named 'conll'",
            "",
            "\u001b[0;31m---------------------------------------------------------------------------\u001b[0;32m\nNOTE: If your import is failing due to a missing package, you can\nmanually install dependencies using either !pip or !apt.\n\nTo view examples of installing some common dependencies, click the\n\"Open Examples\" button below.\n\u001b[0;31m---------------------------------------------------------------------------\u001b[0m\n"
          ]
        }
      ]
    },
    {
      "cell_type": "code",
      "metadata": {
        "id": "ht0oSS4iwCAU"
      },
      "source": [
        "nlp = spacy.load(\"en_core_web_sm\")\n",
        "doc = conll.read_corpus_conll(\"train.txt\", \" \")\n",
        "\n",
        "refs = [[(text,iob) for text,pos,syn_chunk,iob in sent if text != '-DOCSTART-']for sent in doc]\n",
        "refs = [x for x in refs if x]"
      ],
      "execution_count": 2,
      "outputs": []
    },
    {
      "cell_type": "code",
      "metadata": {
        "colab": {
          "base_uri": "https://localhost:8080/"
        },
        "id": "oa4wbHVswB-L",
        "outputId": "7cedf7b8-35ac-48f3-ab65-463433d4887c"
      },
      "source": [
        "sentences = []\n",
        "\n",
        "for sent in refs:\n",
        "    tmp = []\n",
        "    for i in range(len(sent)):\n",
        "        tmp.append(sent[i][0])\n",
        "    sentences.append(tmp)\n",
        "\n",
        "print(sentences[0])"
      ],
      "execution_count": 3,
      "outputs": [
        {
          "output_type": "stream",
          "text": [
            "['EU', 'rejects', 'German', 'call', 'to', 'boycott', 'British', 'lamb', '.']\n"
          ],
          "name": "stdout"
        }
      ]
    },
    {
      "cell_type": "code",
      "metadata": {
        "id": "aHawmSrwwB8E"
      },
      "source": [
        "def tag_Mapping(tag):\n",
        "  conll_tags = {'PER', 'ORG', 'LOC', 'MISC'}\n",
        "  if tag == 'PERSON':\n",
        "    tag = 'PER'\n",
        "  elif tag == 'GPE' or tag == 'LOC':\n",
        "      tag = 'LOC'\n",
        "  elif tag == 'NORP' or tag == 'ORG' or tag == 'FAC':\n",
        "    tag = 'ORG'\n",
        "  elif tag not in conll_tags:\n",
        "    tag = 'MISC'\n",
        "  \n",
        "  return tag"
      ],
      "execution_count": 4,
      "outputs": []
    },
    {
      "cell_type": "code",
      "metadata": {
        "id": "-54awXDr4gdA"
      },
      "source": [
        "hyps = []\n",
        "for sent in sentences:\n",
        "    doc = Doc(nlp.vocab, words=sent)\n",
        "    for name, proc in nlp.pipeline:\n",
        "        doc = proc(doc)\n",
        "    for tok in doc:\n",
        "      tok.ent_type_ = tag_Mapping(tok.ent_type_)\n",
        "    \n",
        "    hyps.append(([(t.text, t.ent_iob_) if t.ent_iob_ == 'O' else  (t.text,t.ent_iob_+ '-' + t.ent_type_) for t in doc]))"
      ],
      "execution_count": 5,
      "outputs": []
    },
    {
      "cell_type": "code",
      "metadata": {
        "colab": {
          "base_uri": "https://localhost:8080/"
        },
        "id": "f0SC_spSE-km",
        "outputId": "5f719a1a-edd1-4da8-d0d2-e340a2d9e0df"
      },
      "source": [
        "print(\"HYPS: \",hyps[0])\n",
        "print(\"REFS: \",refs[0])"
      ],
      "execution_count": 6,
      "outputs": [
        {
          "output_type": "stream",
          "text": [
            "HYPS:  [('EU', 'B-ORG'), ('rejects', 'O'), ('German', 'B-ORG'), ('call', 'O'), ('to', 'O'), ('boycott', 'O'), ('British', 'B-ORG'), ('lamb', 'O'), ('.', 'O')]\n",
            "REFS:  [('EU', 'B-ORG'), ('rejects', 'O'), ('German', 'B-MISC'), ('call', 'O'), ('to', 'O'), ('boycott', 'O'), ('British', 'B-MISC'), ('lamb', 'O'), ('.', 'O')]\n"
          ],
          "name": "stdout"
        }
      ]
    },
    {
      "cell_type": "code",
      "metadata": {
        "id": "HQo-Wfgxz3wW"
      },
      "source": [
        "def token_level_performance(refs,hyps):\n",
        "#TOKEN LEVEL PERFORMANCE\n",
        "  y_true = []\n",
        "  y_pred = []\n",
        "  for i in range(len(refs)):\n",
        "      for j in range(len(refs[i])):\n",
        "          y_true.append(refs[i][j][-1])\n",
        "          y_pred.append(hyps[i][j][-1])\n",
        "\n",
        "  print(classification_report(y_true, y_pred))"
      ],
      "execution_count": 149,
      "outputs": []
    },
    {
      "cell_type": "code",
      "metadata": {
        "colab": {
          "base_uri": "https://localhost:8080/"
        },
        "id": "rwcKlSxGQ7M3",
        "outputId": "2fc95b11-5234-410e-db12-67c011e121df"
      },
      "source": [
        "token_level_performance(refs,hyps)"
      ],
      "execution_count": 150,
      "outputs": [
        {
          "output_type": "stream",
          "text": [
            "              precision    recall  f1-score   support\n",
            "\n",
            "       B-LOC       0.81      0.71      0.75      7140\n",
            "      B-MISC       0.01      0.06      0.02      3438\n",
            "       B-ORG       0.32      0.34      0.33      6321\n",
            "       B-PER       0.76      0.66      0.71      6600\n",
            "       I-LOC       0.59      0.63      0.61      1157\n",
            "      I-MISC       0.03      0.20      0.06      1155\n",
            "       I-ORG       0.45      0.59      0.51      3704\n",
            "       I-PER       0.72      0.83      0.77      4528\n",
            "           O       0.96      0.86      0.91    169578\n",
            "\n",
            "    accuracy                           0.81    203621\n",
            "   macro avg       0.52      0.54      0.52    203621\n",
            "weighted avg       0.89      0.81      0.85    203621\n",
            "\n"
          ],
          "name": "stdout"
        }
      ]
    },
    {
      "cell_type": "code",
      "metadata": {
        "colab": {
          "base_uri": "https://localhost:8080/",
          "height": 198
        },
        "id": "ydCMhb8540l4",
        "outputId": "15081503-364f-43fc-e3b4-4e33fcfa9fc6"
      },
      "source": [
        "#Chunk level performance\n",
        "results = conll.evaluate(refs,hyps)\n",
        "\n",
        "pd_tbl = pd.DataFrame().from_dict(results, orient='index')\n",
        "pd_tbl.round(decimals=3)"
      ],
      "execution_count": 8,
      "outputs": [
        {
          "output_type": "execute_result",
          "data": {
            "text/html": [
              "<div>\n",
              "<style scoped>\n",
              "    .dataframe tbody tr th:only-of-type {\n",
              "        vertical-align: middle;\n",
              "    }\n",
              "\n",
              "    .dataframe tbody tr th {\n",
              "        vertical-align: top;\n",
              "    }\n",
              "\n",
              "    .dataframe thead th {\n",
              "        text-align: right;\n",
              "    }\n",
              "</style>\n",
              "<table border=\"1\" class=\"dataframe\">\n",
              "  <thead>\n",
              "    <tr style=\"text-align: right;\">\n",
              "      <th></th>\n",
              "      <th>p</th>\n",
              "      <th>r</th>\n",
              "      <th>f</th>\n",
              "      <th>s</th>\n",
              "    </tr>\n",
              "  </thead>\n",
              "  <tbody>\n",
              "    <tr>\n",
              "      <th>LOC</th>\n",
              "      <td>0.796</td>\n",
              "      <td>0.698</td>\n",
              "      <td>0.744</td>\n",
              "      <td>7140</td>\n",
              "    </tr>\n",
              "    <tr>\n",
              "      <th>PER</th>\n",
              "      <td>0.724</td>\n",
              "      <td>0.634</td>\n",
              "      <td>0.676</td>\n",
              "      <td>6600</td>\n",
              "    </tr>\n",
              "    <tr>\n",
              "      <th>ORG</th>\n",
              "      <td>0.286</td>\n",
              "      <td>0.301</td>\n",
              "      <td>0.293</td>\n",
              "      <td>6321</td>\n",
              "    </tr>\n",
              "    <tr>\n",
              "      <th>MISC</th>\n",
              "      <td>0.010</td>\n",
              "      <td>0.040</td>\n",
              "      <td>0.016</td>\n",
              "      <td>3438</td>\n",
              "    </tr>\n",
              "    <tr>\n",
              "      <th>total</th>\n",
              "      <td>0.346</td>\n",
              "      <td>0.477</td>\n",
              "      <td>0.401</td>\n",
              "      <td>23499</td>\n",
              "    </tr>\n",
              "  </tbody>\n",
              "</table>\n",
              "</div>"
            ],
            "text/plain": [
              "           p      r      f      s\n",
              "LOC    0.796  0.698  0.744   7140\n",
              "PER    0.724  0.634  0.676   6600\n",
              "ORG    0.286  0.301  0.293   6321\n",
              "MISC   0.010  0.040  0.016   3438\n",
              "total  0.346  0.477  0.401  23499"
            ]
          },
          "metadata": {
            "tags": []
          },
          "execution_count": 8
        }
      ]
    },
    {
      "cell_type": "code",
      "metadata": {
        "id": "4ksTstRPwB17"
      },
      "source": [
        "def group_entities(doc):\n",
        "    ents = []\n",
        "    groups = []\n",
        "    for nc in doc.noun_chunks:\n",
        "        tmp = []\n",
        "        for ent in nc.ents:\n",
        "            if ent not in ents:\n",
        "                tmp.append(ent.label_)\n",
        "                ents.append(ent)\n",
        "        if len(tmp) > 0:\n",
        "            groups.append(sorted(tmp))          \n",
        "    return groups"
      ],
      "execution_count": 9,
      "outputs": []
    },
    {
      "cell_type": "code",
      "metadata": {
        "id": "zX-ZgAb7VQtM"
      },
      "source": [
        "#!pip install -U spacy\n",
        "#!python -m spacy download en_core_web_sm"
      ],
      "execution_count": 8,
      "outputs": []
    },
    {
      "cell_type": "code",
      "metadata": {
        "id": "q0aX0oGhwBrc"
      },
      "source": [
        "nlp = spacy.load(\"en_core_web_sm\")\n",
        "groups = []\n",
        "for sent in sentences:\n",
        "    mergedSent = ' '.join(sent)\n",
        "    doc = nlp(mergedSent)\n",
        "    groups.append(group_entities(doc)) "
      ],
      "execution_count": 10,
      "outputs": []
    },
    {
      "cell_type": "code",
      "metadata": {
        "id": "-9ygKsKdAOS1"
      },
      "source": [
        "freq_dict = {}\n",
        "for s_group in groups:\n",
        "  for g in s_group:\n",
        "    if len(g) != 0:\n",
        "      key = \"{}\".format(\"---\".join(sorted(g)))\n",
        "      if key not in freq_dict:\n",
        "        freq_dict[key] = 1\n",
        "      else:\n",
        "        freq_dict[key] += 1"
      ],
      "execution_count": 47,
      "outputs": []
    },
    {
      "cell_type": "code",
      "metadata": {
        "colab": {
          "base_uri": "https://localhost:8080/"
        },
        "id": "4oewFo0CAORN",
        "outputId": "d03ed100-07df-4fac-b110-a339fee72d9e"
      },
      "source": [
        "d_view = [(v,k) for k,v in freq_dict.items()]\n",
        "d_view.sort(reverse=True)\n",
        "for v,k in d_view:\n",
        "    print(\"%s: %d\" % (k,v))"
      ],
      "execution_count": 48,
      "outputs": [
        {
          "output_type": "stream",
          "text": [
            "GPE: 5385\n",
            "PERSON: 4247\n",
            "ORG: 3428\n",
            "DATE: 2297\n",
            "CARDINAL: 1665\n",
            "NORP: 1503\n",
            "ORDINAL: 591\n",
            "QUANTITY: 345\n",
            "PERCENT: 224\n",
            "TIME: 208\n",
            "NORP---PERSON: 193\n",
            "MONEY: 182\n",
            "LOC: 181\n",
            "ORG---PERSON: 134\n",
            "GPE---PERSON: 134\n",
            "CARDINAL---PERSON: 103\n",
            "EVENT: 101\n",
            "CARDINAL---NORP: 80\n",
            "GPE---ORG: 79\n",
            "FAC: 76\n",
            "PRODUCT: 60\n",
            "CARDINAL---ORG: 55\n",
            "WORK_OF_ART: 44\n",
            "GPE---GPE: 40\n",
            "CARDINAL---GPE: 35\n",
            "PERSON---PERSON: 34\n",
            "ORDINAL---PERSON: 32\n",
            "GPE---NORP: 32\n",
            "DATE---GPE: 31\n",
            "ORG---ORG: 29\n",
            "NORP---ORG: 29\n",
            "DATE---TIME: 28\n",
            "NORP---NORP: 27\n",
            "DATE---ORG: 27\n",
            "CARDINAL---ORDINAL: 27\n",
            "LANGUAGE: 23\n",
            "CARDINAL---CARDINAL: 22\n",
            "DATE---NORP: 21\n",
            "GPE---ORDINAL: 20\n",
            "DATE---PERSON: 20\n",
            "ORG---PRODUCT: 19\n",
            "NORP---ORDINAL: 16\n",
            "CARDINAL---DATE: 16\n",
            "ORDINAL---ORG: 14\n",
            "LAW: 14\n",
            "GPE---ORG---PERSON: 11\n",
            "GPE---LOC: 11\n",
            "FAC---GPE: 10\n",
            "EVENT---GPE: 10\n",
            "DATE---ORDINAL: 10\n",
            "DATE---EVENT: 8\n",
            "DATE---DATE: 8\n",
            "ORDINAL---ORDINAL: 6\n",
            "MONEY---ORG: 6\n",
            "CARDINAL---PRODUCT: 6\n",
            "PERSON---TIME: 4\n",
            "NORP---PERSON---PERSON: 4\n",
            "DATE---PERCENT: 4\n",
            "DATE---NORP---PERSON: 4\n",
            "DATE---LOC: 4\n",
            "DATE---FAC: 4\n",
            "CARDINAL---ORG---PRODUCT: 4\n",
            "CARDINAL---NORP---NORP: 4\n",
            "ORDINAL---ORG---PERSON: 3\n",
            "NORP---ORDINAL---PERSON: 3\n",
            "GPE---PRODUCT: 3\n",
            "EVENT---PERSON: 3\n",
            "EVENT---EVENT: 3\n",
            "DATE---MONEY: 3\n",
            "CARDINAL---PERCENT: 3\n",
            "CARDINAL---NORP---PERSON: 3\n",
            "CARDINAL---FAC: 3\n",
            "CARDINAL---EVENT: 3\n",
            "ORG---QUANTITY: 2\n",
            "ORG---ORG---PERSON: 2\n",
            "ORDINAL---QUANTITY: 2\n",
            "NORP---ORG---PERSON: 2\n",
            "MONEY---QUANTITY: 2\n",
            "MONEY---NORP: 2\n",
            "MONEY---MONEY: 2\n",
            "LOC---PERSON: 2\n",
            "LOC---ORG: 2\n",
            "LOC---NORP: 2\n",
            "LAW---PERSON: 2\n",
            "GPE---QUANTITY: 2\n",
            "GPE---NORP---ORG: 2\n",
            "GPE---NORP---NORP: 2\n",
            "GPE---LOC---PERSON: 2\n",
            "GPE---GPE---ORG: 2\n",
            "GPE---GPE---GPE---PERSON: 2\n",
            "EVENT---ORDINAL: 2\n",
            "DATE---PRODUCT: 2\n",
            "DATE---PERSON---PERSON: 2\n",
            "DATE---ORG---TIME: 2\n",
            "DATE---FAC---GPE: 2\n",
            "DATE---DATE---PERSON: 2\n",
            "CARDINAL---QUANTITY: 2\n",
            "CARDINAL---ORG---PERSON: 2\n",
            "CARDINAL---MONEY: 2\n",
            "CARDINAL---LOC: 2\n",
            "CARDINAL---GPE---PERSON: 2\n",
            "CARDINAL---GPE---GPE: 2\n",
            "CARDINAL---CARDINAL---ORG: 2\n",
            "CARDINAL---CARDINAL---GPE: 2\n",
            "PERSON---WORK_OF_ART: 1\n",
            "PERSON---QUANTITY: 1\n",
            "ORG---PERCENT: 1\n",
            "ORG---ORG---WORK_OF_ART: 1\n",
            "ORG---ORG---PRODUCT: 1\n",
            "ORG---ORG---PERSON---PERSON: 1\n",
            "ORG---ORG---ORG: 1\n",
            "ORDINAL---PRODUCT: 1\n",
            "ORDINAL---ORDINAL---ORDINAL---ORDINAL---PERSON---PERSON: 1\n",
            "NORP---QUANTITY: 1\n",
            "NORP---PRODUCT: 1\n",
            "NORP---PERCENT: 1\n",
            "NORP---ORG---ORG: 1\n",
            "NORP---NORP---ORG: 1\n",
            "MONEY---ORDINAL: 1\n",
            "MONEY---MONEY---ORG---PERSON: 1\n",
            "LANGUAGE---NORP: 1\n",
            "GPE---PERSON---PERSON: 1\n",
            "GPE---PERCENT: 1\n",
            "GPE---NORP---PERSON: 1\n",
            "GPE---NORP---ORDINAL: 1\n",
            "GPE---GPE---QUANTITY: 1\n",
            "GPE---GPE---GPE---NORP: 1\n",
            "FAC---ORG: 1\n",
            "FAC---ORDINAL: 1\n",
            "FAC---NORP: 1\n",
            "EVENT---NORP: 1\n",
            "DATE---WORK_OF_ART: 1\n",
            "DATE---PERSON---PRODUCT: 1\n",
            "DATE---ORG---PERCENT: 1\n",
            "DATE---ORG---ORG: 1\n",
            "DATE---MONEY---NORP: 1\n",
            "DATE---GPE---PERSON: 1\n",
            "DATE---GPE---NORP---PERSON: 1\n",
            "DATE---GPE---NORP: 1\n",
            "DATE---FAC---LOC: 1\n",
            "DATE---EVENT---ORG: 1\n",
            "DATE---EVENT---GPE: 1\n",
            "DATE---DATE---NORP---PERSON: 1\n",
            "CARDINAL---PERSON---PERSON: 1\n",
            "CARDINAL---ORG---ORG: 1\n",
            "CARDINAL---ORDINAL---ORG: 1\n",
            "CARDINAL---LAW: 1\n",
            "CARDINAL---LANGUAGE: 1\n",
            "CARDINAL---GPE---ORG: 1\n",
            "CARDINAL---GPE---ORDINAL: 1\n",
            "CARDINAL---GPE---NORP: 1\n",
            "CARDINAL---GPE---LOC: 1\n",
            "CARDINAL---DATE---PERSON: 1\n",
            "CARDINAL---DATE---ORDINAL: 1\n",
            "CARDINAL---DATE---GPE: 1\n",
            "CARDINAL---CARDINAL---ORDINAL: 1\n",
            "CARDINAL---CARDINAL---GPE---PERSON: 1\n",
            "CARDINAL---CARDINAL---DATE: 1\n",
            "CARDINAL---CARDINAL---CARDINAL---CARDINAL: 1\n",
            "CARDINAL---CARDINAL---CARDINAL: 1\n"
          ],
          "name": "stdout"
        }
      ]
    },
    {
      "cell_type": "code",
      "metadata": {
        "id": "zvX2vDi673aO"
      },
      "source": [
        "def exstend_entity_span(doc):\n",
        "  ent_iob = [t.ent_iob_ for t in doc]\n",
        "  ent_types = [t.ent_type_ for t in doc]\n",
        "  \n",
        "  for token in doc:\n",
        "      if token.dep_ == 'compound' and token.head.ent_type_ != \"\":     # check the dependencies\n",
        "          ent_types[token.i] = token.head.ent_type_                   # change the entity\n",
        "\n",
        "          # put the IOB tag\n",
        "          if token.head.i < token.i:\n",
        "              ent_iob[token.i] = 'I'\n",
        "          elif token.head.ent_iob_ == 'B':\n",
        "              ent_iob[token.head.i] = 'I'\n",
        "              ent_iob[token.i] = 'B'\n",
        "          else:\n",
        "              ent_iob[token.i] = 'B'\n",
        "\n",
        "  return [(t.text, ei) if ei == 'O' else  (t.text,ei+ '-' + tag_Mapping(et)) for t, ei, et in zip(doc,ent_iob,ent_types)]"
      ],
      "execution_count": 145,
      "outputs": []
    },
    {
      "cell_type": "code",
      "metadata": {
        "id": "9l6Xq_Q0WDFX"
      },
      "source": [
        "results = []\n",
        "for sent in sentences:\n",
        "    mergedSent = ' '.join(sent)\n",
        "    doc = nlp(mergedSent)\n",
        "    results.append(exstend_entity_span(doc))"
      ],
      "execution_count": 146,
      "outputs": []
    },
    {
      "cell_type": "code",
      "metadata": {
        "colab": {
          "base_uri": "https://localhost:8080/"
        },
        "id": "N_UHhNOmKKBb",
        "outputId": "9a14cdbd-602c-457c-c128-557e264639c8"
      },
      "source": [
        "token_level_performance(refs,results)"
      ],
      "execution_count": 153,
      "outputs": [
        {
          "output_type": "stream",
          "text": [
            "              precision    recall  f1-score   support\n",
            "\n",
            "       B-LOC       0.67      0.61      0.64      7140\n",
            "      B-MISC       0.02      0.07      0.03      3438\n",
            "       B-ORG       0.27      0.35      0.30      6321\n",
            "       B-PER       0.52      0.53      0.52      6600\n",
            "       I-LOC       0.56      0.54      0.55      1157\n",
            "      I-MISC       0.02      0.14      0.04      1155\n",
            "       I-ORG       0.40      0.38      0.39      3704\n",
            "       I-PER       0.57      0.60      0.59      4528\n",
            "           O       0.94      0.83      0.88    169578\n",
            "\n",
            "    accuracy                           0.77    203621\n",
            "   macro avg       0.44      0.45      0.44    203621\n",
            "weighted avg       0.85      0.77      0.81    203621\n",
            "\n"
          ],
          "name": "stdout"
        }
      ]
    }
  ]
}