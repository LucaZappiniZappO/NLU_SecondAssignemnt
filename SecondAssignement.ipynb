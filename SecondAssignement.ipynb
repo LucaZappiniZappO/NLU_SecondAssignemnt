{
  "nbformat": 4,
  "nbformat_minor": 0,
  "metadata": {
    "colab": {
      "name": "SecondAssignement.ipynb",
      "provenance": [],
      "include_colab_link": true
    },
    "kernelspec": {
      "name": "python3",
      "display_name": "Python 3"
    },
    "language_info": {
      "name": "python"
    }
  },
  "cells": [
    {
      "cell_type": "markdown",
      "metadata": {
        "id": "view-in-github",
        "colab_type": "text"
      },
      "source": [
        "<a href=\"https://colab.research.google.com/github/LucaZappiniZappO/NLU_SecondAssignemnt/blob/main/SecondAssignement.ipynb\" target=\"_parent\"><img src=\"https://colab.research.google.com/assets/colab-badge.svg\" alt=\"Open In Colab\"/></a>"
      ]
    },
    {
      "cell_type": "code",
      "metadata": {
        "id": "Gr7NIupbuwLF"
      },
      "source": [
        "import conll\n",
        "import spacy\n",
        "import nltk\n",
        "import pandas as pd\n",
        "from spacy.tokens import Doc"
      ],
      "execution_count": 27,
      "outputs": []
    },
    {
      "cell_type": "code",
      "metadata": {
        "id": "ht0oSS4iwCAU"
      },
      "source": [
        "nlp = spacy.load(\"en_core_web_sm\")\n",
        "doc = conll.read_corpus_conll(\"train.txt\", \" \")\n",
        "doc = doc[1:]\n",
        "\n",
        "refs = [[(text,iob) for text,pos,syn_chunk,iob in sent ]for sent in doc]"
      ],
      "execution_count": 28,
      "outputs": []
    },
    {
      "cell_type": "code",
      "metadata": {
        "colab": {
          "base_uri": "https://localhost:8080/"
        },
        "id": "oa4wbHVswB-L",
        "outputId": "c25ecf9a-fec8-4cfd-af70-449569801c2c"
      },
      "source": [
        "sentences = []\n",
        "\n",
        "for sent in refs:\n",
        "    tmp = []\n",
        "    for i in range(len(sent)):\n",
        "        tmp.append(sent[i][0])\n",
        "    sentences.append(tmp)\n",
        "\n",
        "#sentences = [' '.join(s) for s in sentences]\n",
        "print(sentences[0])"
      ],
      "execution_count": 29,
      "outputs": [
        {
          "output_type": "stream",
          "text": [
            "['EU', 'rejects', 'German', 'call', 'to', 'boycott', 'British', 'lamb', '.']\n"
          ],
          "name": "stdout"
        }
      ]
    },
    {
      "cell_type": "code",
      "metadata": {
        "id": "aHawmSrwwB8E"
      },
      "source": [
        "def tag_Mapping(tag):\n",
        "  conll2003_tags = {'PER', 'ORG', 'LOC', 'MISC'}\n",
        "  if tag == 'PERSON':\n",
        "    tag = 'PER'\n",
        "  elif tag == 'GPE':\n",
        "      tag = 'LOC'\n",
        "  elif tag == 'NORP':\n",
        "    tag = 'ORG'\n",
        "  elif tag not in conll2003_tags:\n",
        "    tag = 'MISC'\n",
        "  \n",
        "  return tag"
      ],
      "execution_count": 30,
      "outputs": []
    },
    {
      "cell_type": "code",
      "metadata": {
        "id": "-54awXDr4gdA"
      },
      "source": [
        "docTextList = []\n",
        "docNLP = []\n",
        "docList = []\n",
        "hyps = []\n",
        "for sent in sentences:\n",
        "    inputText = ' '.join(sent)\n",
        "    docTextList.append(inputText)\n",
        "    doc = Doc(nlp.vocab, words=sent)\n",
        "    for name, proc in nlp.pipeline:\n",
        "        doc = proc(doc)\n",
        "    for tok in doc:\n",
        "      tok.ent_type_ = tag_Mapping(tok.ent_type_)\n",
        "    \n",
        "    hyps.append(([(t.text, t.ent_iob_) if t.ent_iob_ == 'O' else  (t.text,t.ent_iob_+ '-' + t.ent_type_) for t in doc]))\n"
      ],
      "execution_count": 31,
      "outputs": []
    },
    {
      "cell_type": "code",
      "metadata": {
        "colab": {
          "base_uri": "https://localhost:8080/"
        },
        "id": "ydCMhb8540l4",
        "outputId": "8459e6fd-aabf-41ed-9144-ff73467362a5"
      },
      "source": [
        "hyps[0]"
      ],
      "execution_count": 33,
      "outputs": [
        {
          "output_type": "execute_result",
          "data": {
            "text/plain": [
              "[('EU', 'B-ORG'),\n",
              " ('rejects', 'O'),\n",
              " ('German', 'B-ORG'),\n",
              " ('call', 'O'),\n",
              " ('to', 'O'),\n",
              " ('boycott', 'O'),\n",
              " ('British', 'B-ORG'),\n",
              " ('lamb', 'O'),\n",
              " ('.', 'O')]"
            ]
          },
          "metadata": {
            "tags": []
          },
          "execution_count": 33
        }
      ]
    },
    {
      "cell_type": "code",
      "metadata": {
        "id": "4ksTstRPwB17"
      },
      "source": [
        ""
      ],
      "execution_count": null,
      "outputs": []
    },
    {
      "cell_type": "code",
      "metadata": {
        "id": "q0aX0oGhwBrc"
      },
      "source": [
        ""
      ],
      "execution_count": null,
      "outputs": []
    }
  ]
}